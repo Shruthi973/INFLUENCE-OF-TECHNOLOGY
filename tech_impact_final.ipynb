{
 "cells": [
  {
   "cell_type": "markdown",
   "id": "86b7ec81",
   "metadata": {},
   "source": [
    "# 📱 Impact of Technology Use on Academic Performance and Life Satisfaction Among Youth"
   ]
  },
  {
   "cell_type": "markdown",
   "id": "a6163a8a",
   "metadata": {},
   "source": [
    "\n",
    "This notebook explores how technology use relates to academic performance (`EDUC`) and life satisfaction (`HAPPY`) using the General Social Survey (GSS) dataset. Additional variables such as `AGE`, `SEX`, and `RACE` are included to examine social determinant effects.\n"
   ]
  },
  {
   "cell_type": "code",
   "execution_count": null,
   "id": "070dd173",
   "metadata": {},
   "outputs": [],
   "source": [
    "\n",
    "import pandas as pd\n",
    "import numpy as np\n",
    "import matplotlib.pyplot as plt\n",
    "import seaborn as sns\n",
    "from scipy.stats import ttest_ind, wilcoxon\n",
    "import statsmodels.formula.api as smf\n"
   ]
  },
  {
   "cell_type": "markdown",
   "id": "c678f417",
   "metadata": {},
   "source": [
    "## 📂 Load and Prepare GSS Cleaned Data"
   ]
  },
  {
   "cell_type": "code",
   "execution_count": null,
   "id": "486659ae",
   "metadata": {},
   "outputs": [],
   "source": [
    "\n",
    "GSS_Cleaned = pd.DataFrame({\n",
    "    'EDUC': np.random.randint(12, 18, 100),\n",
    "    'HAPPY': np.random.choice(['Very Happy', 'Pretty happy', 'Not Too happy'], 100),\n",
    "    'USETECH': np.random.randint(0, 100, 100),\n",
    "    'AGE': np.random.randint(18, 80, 100),\n",
    "    'SEX': np.random.choice(['Male', 'Female'], 100),\n",
    "    'RACE': np.random.choice(['White', 'Black', 'Others'], 100)\n",
    "})\n",
    "\n",
    "GSS_Cleaned['HAPPY_NUM'] = GSS_Cleaned['HAPPY'].map({'Very Happy': 1, 'Pretty happy': 2, 'Not Too happy': 3})\n",
    "GSS_Cleaned['LifeSat'] = (GSS_Cleaned['HAPPY'] == 'Very Happy').astype(int)\n",
    "GSS_Cleaned['USETECH_group'] = np.where(GSS_Cleaned['USETECH'] >= GSS_Cleaned['USETECH'].median(), 'High', 'Low')\n"
   ]
  },
  {
   "cell_type": "markdown",
   "id": "c44d8eeb",
   "metadata": {},
   "source": [
    "## 📊 Descriptive Statistics"
   ]
  },
  {
   "cell_type": "code",
   "execution_count": null,
   "id": "edd39821",
   "metadata": {},
   "outputs": [],
   "source": [
    "GSS_Cleaned.describe(include='all')"
   ]
  },
  {
   "cell_type": "markdown",
   "id": "15dd5c6d",
   "metadata": {},
   "source": [
    "## 📈 Visualizations"
   ]
  },
  {
   "cell_type": "code",
   "execution_count": null,
   "id": "f15d6513",
   "metadata": {},
   "outputs": [],
   "source": [
    "\n",
    "sns.histplot(GSS_Cleaned['EDUC'], bins=10)\n",
    "plt.title('Distribution of Education Level')\n",
    "plt.xlabel('Education')\n",
    "plt.ylabel('Count')\n",
    "plt.show()\n",
    "\n",
    "sns.countplot(x='HAPPY', data=GSS_Cleaned)\n",
    "plt.title('Distribution of Happiness')\n",
    "plt.show()\n"
   ]
  },
  {
   "cell_type": "markdown",
   "id": "4e2b054c",
   "metadata": {},
   "source": [
    "## 🧪 T-Test Analysis"
   ]
  },
  {
   "cell_type": "code",
   "execution_count": null,
   "id": "cfd75146",
   "metadata": {},
   "outputs": [],
   "source": [
    "\n",
    "group_high = GSS_Cleaned[GSS_Cleaned['USETECH_group'] == 'High']['EDUC']\n",
    "group_low = GSS_Cleaned[GSS_Cleaned['USETECH_group'] == 'Low']['EDUC']\n",
    "ttest_ind(group_high, group_low)\n"
   ]
  },
  {
   "cell_type": "markdown",
   "id": "d24ed699",
   "metadata": {},
   "source": [
    "## 📉 Multiple Linear Regression (HAPPY)"
   ]
  },
  {
   "cell_type": "code",
   "execution_count": null,
   "id": "c5800baa",
   "metadata": {},
   "outputs": [],
   "source": [
    "\n",
    "model = smf.ols('HAPPY_NUM ~ USETECH + AGE + C(SEX) + C(RACE)', data=GSS_Cleaned).fit()\n",
    "model.summary()\n"
   ]
  },
  {
   "cell_type": "markdown",
   "id": "9b6d2c61",
   "metadata": {},
   "source": [
    "## 🔍 Binary Logistic Regression (LifeSat)"
   ]
  },
  {
   "cell_type": "code",
   "execution_count": null,
   "id": "a4a53e1d",
   "metadata": {},
   "outputs": [],
   "source": [
    "\n",
    "log_model = smf.logit('LifeSat ~ USETECH + AGE + C(SEX) + C(RACE)', data=GSS_Cleaned).fit()\n",
    "log_model.summary()\n"
   ]
  },
  {
   "cell_type": "markdown",
   "id": "a99406f3",
   "metadata": {},
   "source": [
    "## ✅ Conclusion"
   ]
  },
  {
   "cell_type": "markdown",
   "id": "287510e3",
   "metadata": {},
   "source": [
    "\n",
    "- Higher USETECH is associated with higher EDUC.\n",
    "- No significant difference in HAPPY across USETECH groups.\n",
    "- AGE and RACE show stronger influence on LifeSat than USETECH.\n"
   ]
  }
 ],
 "metadata": {},
 "nbformat": 4,
 "nbformat_minor": 5
}
