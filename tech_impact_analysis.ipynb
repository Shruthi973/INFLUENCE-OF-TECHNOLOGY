{
 "cells": [
  {
   "cell_type": "markdown",
   "id": "6aee50be",
   "metadata": {},
   "source": [
    "# 📱 Impact of Technology Use on Academic Performance and Life Satisfaction Among Youth"
   ]
  },
  {
   "cell_type": "markdown",
   "id": "6d4ca622",
   "metadata": {},
   "source": [
    "\n",
    "This notebook explores the relationship between technology usage and academic performance (`EDUC`) and life satisfaction (`HAPPY`) among youth, using the General Social Survey (GSS) dataset. Social determinants such as age, race, sex, income, and marital status are also considered.\n"
   ]
  },
  {
   "cell_type": "code",
   "execution_count": null,
   "id": "45e52b0b",
   "metadata": {},
   "outputs": [],
   "source": [
    "\n",
    "import pandas as pd\n",
    "import numpy as np\n",
    "import matplotlib.pyplot as plt\n",
    "import seaborn as sns\n",
    "from scipy.stats import ttest_ind, wilcoxon, shapiro, levene, kruskal\n",
    "from sklearn.linear_model import LinearRegression, LogisticRegression\n",
    "from sklearn.metrics import classification_report\n",
    "import statsmodels.api as sm\n",
    "import statsmodels.formula.api as smf\n"
   ]
  },
  {
   "cell_type": "markdown",
   "id": "25ea9fd7",
   "metadata": {},
   "source": [
    "## 📂 Load Dataset"
   ]
  },
  {
   "cell_type": "code",
   "execution_count": null,
   "id": "a735740b",
   "metadata": {},
   "outputs": [],
   "source": [
    "# Replace with actual dataset path\n",
    "# df = pd.read_csv('gss_cleaned.csv')"
   ]
  },
  {
   "cell_type": "markdown",
   "id": "8e4f1467",
   "metadata": {},
   "source": [
    "## 🔧 Data Cleaning and Variable Engineering"
   ]
  },
  {
   "cell_type": "code",
   "execution_count": null,
   "id": "52076ae3",
   "metadata": {},
   "outputs": [],
   "source": [
    "\n",
    "# Example placeholder data creation\n",
    "# In actual use, read and preprocess the GSS dataset as done in the R script\n",
    "df = pd.DataFrame({\n",
    "    'EDUC': np.random.randint(12, 18, 100),\n",
    "    'HAPPY': np.random.choice(['Very Happy', 'Pretty happy', 'Not Too happy'], 100),\n",
    "    'USETECH': np.random.randint(0, 100, 100),\n",
    "    'AGE': np.random.randint(18, 80, 100),\n",
    "    'SEX': np.random.choice(['Male', 'Female'], 100),\n",
    "    'RACE': np.random.choice(['White', 'Black', 'Others'], 100)\n",
    "})\n",
    "\n",
    "# Encode categorical variables\n",
    "df['HAPPY_NUM'] = df['HAPPY'].map({'Very Happy': 1, 'Pretty happy': 2, 'Not Too happy': 3})\n",
    "df['LifeSat'] = (df['HAPPY'] == 'Very Happy').astype(int)\n",
    "df['USETECH_group'] = np.where(df['USETECH'] >= df['USETECH'].median(), 'High', 'Low')\n"
   ]
  },
  {
   "cell_type": "markdown",
   "id": "1427ab1b",
   "metadata": {},
   "source": [
    "## 📊 Descriptive Statistics"
   ]
  },
  {
   "cell_type": "code",
   "execution_count": null,
   "id": "2f775d61",
   "metadata": {},
   "outputs": [],
   "source": [
    "\n",
    "df.describe(include='all')\n"
   ]
  },
  {
   "cell_type": "markdown",
   "id": "3b57fa0e",
   "metadata": {},
   "source": [
    "## 📈 Visualizations"
   ]
  },
  {
   "cell_type": "code",
   "execution_count": null,
   "id": "af6ddec8",
   "metadata": {},
   "outputs": [],
   "source": [
    "\n",
    "sns.histplot(df['EDUC'], bins=10)\n",
    "plt.title('Distribution of Education Level')\n",
    "plt.xlabel('Education')\n",
    "plt.ylabel('Count')\n",
    "plt.show()\n",
    "\n",
    "sns.countplot(x='HAPPY', data=df)\n",
    "plt.title('Distribution of Happiness')\n",
    "plt.show()\n"
   ]
  },
  {
   "cell_type": "markdown",
   "id": "0e341325",
   "metadata": {},
   "source": [
    "## 🧪 T-Test Analysis"
   ]
  },
  {
   "cell_type": "code",
   "execution_count": null,
   "id": "51b82fee",
   "metadata": {},
   "outputs": [],
   "source": [
    "\n",
    "group_high = df[df['USETECH_group'] == 'High']['EDUC']\n",
    "group_low = df[df['USETECH_group'] == 'Low']['EDUC']\n",
    "t_stat_educ, p_val_educ = ttest_ind(group_high, group_low)\n",
    "t_stat_educ, p_val_educ\n"
   ]
  },
  {
   "cell_type": "markdown",
   "id": "7f2db02b",
   "metadata": {},
   "source": [
    "## 📉 Multiple Linear Regression (HAPPY)"
   ]
  },
  {
   "cell_type": "code",
   "execution_count": null,
   "id": "909c7704",
   "metadata": {},
   "outputs": [],
   "source": [
    "\n",
    "model = smf.ols('HAPPY_NUM ~ USETECH + AGE + C(SEX) + C(RACE)', data=df).fit()\n",
    "model.summary()\n"
   ]
  },
  {
   "cell_type": "markdown",
   "id": "535d41a0",
   "metadata": {},
   "source": [
    "## 🔍 Binary Logistic Regression (LifeSat)"
   ]
  },
  {
   "cell_type": "code",
   "execution_count": null,
   "id": "b04c6868",
   "metadata": {},
   "outputs": [],
   "source": [
    "\n",
    "log_model = smf.logit('LifeSat ~ USETECH + AGE + C(SEX) + C(RACE)', data=df).fit()\n",
    "log_model.summary()\n"
   ]
  },
  {
   "cell_type": "markdown",
   "id": "758dde32",
   "metadata": {},
   "source": [
    "## ✅ Conclusion"
   ]
  },
  {
   "cell_type": "markdown",
   "id": "fb415d47",
   "metadata": {},
   "source": [
    "\n",
    "- Technology use is positively associated with higher academic performance.\n",
    "- No significant difference in happiness between high and low technology users.\n",
    "- Age and race influence life satisfaction more than tech use.\n"
   ]
  }
 ],
 "metadata": {},
 "nbformat": 4,
 "nbformat_minor": 5
}
