{
 "cells": [
  {
   "cell_type": "markdown",
   "id": "c57bd0ae",
   "metadata": {},
   "source": [
    "# 📱 Impact of Technology Use on Academic Performance and Life Satisfaction Among Youth"
   ]
  },
  {
   "cell_type": "markdown",
   "id": "4df4a28f",
   "metadata": {},
   "source": [
    "\n",
    "This notebook explores the relationship between technology usage and academic performance (`EDUC`) and life satisfaction (`HAPPY`) among youth, using the General Social Survey (GSS) dataset. Social determinants such as age, race, sex, income, and marital status are also considered.\n"
   ]
  },
  {
   "cell_type": "code",
   "execution_count": null,
   "id": "16a7c09d",
   "metadata": {},
   "outputs": [],
   "source": [
    "\n",
    "import pandas as pd\n",
    "import numpy as np\n",
    "import matplotlib.pyplot as plt\n",
    "import seaborn as sns\n",
    "from scipy.stats import ttest_ind, wilcoxon, shapiro, levene, kruskal\n",
    "import statsmodels.formula.api as smf\n"
   ]
  },
  {
   "cell_type": "markdown",
   "id": "51e89367",
   "metadata": {},
   "source": [
    "## 📂 Load Dataset"
   ]
  },
  {
   "cell_type": "code",
   "execution_count": null,
   "id": "0690c600",
   "metadata": {},
   "outputs": [],
   "source": [
    "\n",
    "# Example simulated dataset\n",
    "df = pd.DataFrame({\n",
    "    'EDUC': np.random.randint(12, 18, 100),\n",
    "    'HAPPY': np.random.choice(['Very Happy', 'Pretty happy', 'Not Too happy'], 100),\n",
    "    'USETECH': np.random.randint(0, 100, 100),\n",
    "    'AGE': np.random.randint(18, 80, 100),\n",
    "    'SEX': np.random.choice(['Male', 'Female'], 100),\n",
    "    'RACE': np.random.choice(['White', 'Black', 'Others'], 100)\n",
    "})\n"
   ]
  },
  {
   "cell_type": "markdown",
   "id": "7b11ba79",
   "metadata": {},
   "source": [
    "## 🔧 Data Cleaning and Variable Engineering"
   ]
  },
  {
   "cell_type": "code",
   "execution_count": null,
   "id": "75bc36a0",
   "metadata": {},
   "outputs": [],
   "source": [
    "\n",
    "df['HAPPY_NUM'] = df['HAPPY'].map({'Very Happy': 1, 'Pretty happy': 2, 'Not Too happy': 3})\n",
    "df['LifeSat'] = (df['HAPPY'] == 'Very Happy').astype(int)\n",
    "df['USETECH_group'] = np.where(df['USETECH'] >= df['USETECH'].median(), 'High', 'Low')\n"
   ]
  },
  {
   "cell_type": "markdown",
   "id": "8099b245",
   "metadata": {},
   "source": [
    "## 📊 Descriptive Statistics"
   ]
  },
  {
   "cell_type": "code",
   "execution_count": null,
   "id": "e5404934",
   "metadata": {},
   "outputs": [],
   "source": [
    "df.describe(include='all')"
   ]
  },
  {
   "cell_type": "markdown",
   "id": "58b206af",
   "metadata": {},
   "source": [
    "## 📈 Visualizations"
   ]
  },
  {
   "cell_type": "code",
   "execution_count": null,
   "id": "8f2b4d41",
   "metadata": {},
   "outputs": [],
   "source": [
    "\n",
    "sns.histplot(df['EDUC'], bins=10)\n",
    "plt.title('Distribution of Education Level')\n",
    "plt.xlabel('Education')\n",
    "plt.ylabel('Count')\n",
    "plt.show()\n",
    "\n",
    "sns.countplot(x='HAPPY', data=df)\n",
    "plt.title('Distribution of Happiness')\n",
    "plt.show()\n"
   ]
  },
  {
   "cell_type": "markdown",
   "id": "28cb177c",
   "metadata": {},
   "source": [
    "## 🧪 T-Test Analysis"
   ]
  },
  {
   "cell_type": "code",
   "execution_count": null,
   "id": "29bfadeb",
   "metadata": {},
   "outputs": [],
   "source": [
    "\n",
    "group_high = df[df['USETECH_group'] == 'High']['EDUC']\n",
    "group_low = df[df['USETECH_group'] == 'Low']['EDUC']\n",
    "ttest_ind(group_high, group_low)\n"
   ]
  },
  {
   "cell_type": "markdown",
   "id": "900b157e",
   "metadata": {},
   "source": [
    "## 📉 Multiple Linear Regression (HAPPY)"
   ]
  },
  {
   "cell_type": "code",
   "execution_count": null,
   "id": "1417cf87",
   "metadata": {},
   "outputs": [],
   "source": [
    "\n",
    "model = smf.ols('HAPPY_NUM ~ USETECH + AGE + C(SEX) + C(RACE)', data=df).fit()\n",
    "model.summary()\n"
   ]
  },
  {
   "cell_type": "markdown",
   "id": "2ecfda59",
   "metadata": {},
   "source": [
    "## 🔍 Binary Logistic Regression (LifeSat)"
   ]
  },
  {
   "cell_type": "code",
   "execution_count": null,
   "id": "08da337b",
   "metadata": {},
   "outputs": [],
   "source": [
    "\n",
    "log_model = smf.logit('LifeSat ~ USETECH + AGE + C(SEX) + C(RACE)', data=df).fit()\n",
    "log_model.summary()\n"
   ]
  },
  {
   "cell_type": "markdown",
   "id": "234e35e8",
   "metadata": {},
   "source": [
    "## ✅ Conclusion"
   ]
  },
  {
   "cell_type": "markdown",
   "id": "d578241c",
   "metadata": {},
   "source": [
    "\n",
    "- Technology use is positively associated with higher academic performance.\n",
    "- No significant difference in happiness between high and low technology users.\n",
    "- Age and race influence life satisfaction more than tech use.\n"
   ]
  }
 ],
 "metadata": {},
 "nbformat": 4,
 "nbformat_minor": 5
}
