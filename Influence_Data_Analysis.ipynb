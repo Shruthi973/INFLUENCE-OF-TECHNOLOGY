{
 "cells": [
  {
   "cell_type": "markdown",
   "id": "3aa5d194",
   "metadata": {},
   "source": [
    "# Influence Data Analysis\n",
    "\n",
    "This notebook explores classification of Parkinson’s disease phenotypes (TD vs PIGD) using logistic regression, Naive Bayes, and random forest models based on screening age, depression, and anxiety scores."
   ]
  },
  {
   "cell_type": "code",
   "execution_count": null,
   "id": "5373e8ad",
   "metadata": {},
   "outputs": [],
   "source": [
    "import pandas as pd\n",
    "import matplotlib.pyplot as plt\n",
    "import seaborn as sns\n",
    "from sklearn.linear_model import LogisticRegression\n",
    "from sklearn.naive_bayes import GaussianNB\n",
    "from sklearn.ensemble import RandomForestClassifier\n",
    "from sklearn.metrics import classification_report, roc_curve, auc\n",
    "from sklearn.preprocessing import LabelEncoder\n",
    "import warnings\n",
    "warnings.filterwarnings(\"ignore\")"
   ]
  },
  {
   "cell_type": "code",
   "execution_count": null,
   "id": "33cb78a9",
   "metadata": {},
   "outputs": [],
   "source": [
    "df = pd.read_csv(\"influence_data.csv\")\n",
    "df.head()"
   ]
  },
  {
   "cell_type": "code",
   "execution_count": null,
   "id": "f164ff7f",
   "metadata": {},
   "outputs": [],
   "source": [
    "le = LabelEncoder()\n",
    "df[\"phenotype_encoded\"] = le.fit_transform(df[\"phenotype\"])\n",
    "df[\"phenotype_encoded\"].value_counts()"
   ]
  },
  {
   "cell_type": "code",
   "execution_count": null,
   "id": "e840ff03",
   "metadata": {},
   "outputs": [],
   "source": [
    "X = df[[\"screening_age\", \"gds_total\", \"a_persistent_anxiety_total\"]]\n",
    "y = df[\"phenotype_encoded\"]"
   ]
  },
  {
   "cell_type": "code",
   "execution_count": null,
   "id": "f51efa39",
   "metadata": {},
   "outputs": [],
   "source": [
    "log_model = LogisticRegression().fit(X, y)\n",
    "nb_model = GaussianNB().fit(X, y)\n",
    "rf_model = RandomForestClassifier(random_state=42).fit(X, y)"
   ]
  },
  {
   "cell_type": "code",
   "execution_count": null,
   "id": "930521b5",
   "metadata": {},
   "outputs": [],
   "source": [
    "log_pred = log_model.predict(X)\n",
    "nb_pred = nb_model.predict(X)\n",
    "rf_pred = rf_model.predict(X)\n",
    "\n",
    "log_prob = log_model.predict_proba(X)[:, 1]\n",
    "nb_prob = nb_model.predict_proba(X)[:, 1]\n",
    "rf_prob = rf_model.predict_proba(X)[:, 1]"
   ]
  },
  {
   "cell_type": "code",
   "execution_count": null,
   "id": "773dde04",
   "metadata": {},
   "outputs": [],
   "source": [
    "print(\"Logistic Regression Report\")\n",
    "print(classification_report(y, log_pred))\n",
    "\n",
    "print(\"Naive Bayes Report\")\n",
    "print(classification_report(y, nb_pred))\n",
    "\n",
    "print(\"Random Forest Report\")\n",
    "print(classification_report(y, rf_pred))"
   ]
  },
  {
   "cell_type": "code",
   "execution_count": null,
   "id": "bc2cb83d",
   "metadata": {},
   "outputs": [],
   "source": [
    "fpr_log, tpr_log, _ = roc_curve(y, log_prob)\n",
    "fpr_nb, tpr_nb, _ = roc_curve(y, nb_prob)\n",
    "fpr_rf, tpr_rf, _ = roc_curve(y, rf_prob)\n",
    "\n",
    "plt.figure(figsize=(8,6))\n",
    "plt.plot(fpr_log, tpr_log, label='Logistic Regression')\n",
    "plt.plot(fpr_nb, tpr_nb, label='Naive Bayes')\n",
    "plt.plot(fpr_rf, tpr_rf, label='Random Forest')\n",
    "plt.plot([0,1], [0,1], 'k--')\n",
    "plt.xlabel(\"False Positive Rate\")\n",
    "plt.ylabel(\"True Positive Rate\")\n",
    "plt.title(\"ROC Curve - Phenotype Prediction\")\n",
    "plt.legend()\n",
    "plt.grid(True)\n",
    "plt.show()"
   ]
  }
 ],
 "metadata": {},
 "nbformat": 4,
 "nbformat_minor": 5
}
