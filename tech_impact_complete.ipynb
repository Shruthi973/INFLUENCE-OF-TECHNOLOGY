{
 "cells": [
  {
   "cell_type": "markdown",
   "id": "efb2f62c",
   "metadata": {},
   "source": [
    "# 📱 Impact of Technology Use on Academic Performance and Life Satisfaction Among Youth"
   ]
  },
  {
   "cell_type": "markdown",
   "id": "4c27a71d",
   "metadata": {},
   "source": [
    "\n",
    "This notebook examines how technology usage affects academic performance (`EDUC`) and life satisfaction (`HAPPY`) among youth, using the General Social Survey (GSS) dataset. Social determinants such as age, race, sex, marital status, and income are also considered.\n"
   ]
  },
  {
   "cell_type": "code",
   "execution_count": null,
   "id": "ae8c7943",
   "metadata": {},
   "outputs": [],
   "source": [
    "\n",
    "import pandas as pd\n",
    "import numpy as np\n",
    "import matplotlib.pyplot as plt\n",
    "import seaborn as sns\n",
    "from scipy.stats import ttest_ind, wilcoxon, kruskal\n",
    "import statsmodels.formula.api as smf\n",
    "import statsmodels.api as sm\n",
    "from statsmodels.stats.multicomp import pairwise_tukeyhsd\n",
    "from sklearn.preprocessing import LabelEncoder\n"
   ]
  },
  {
   "cell_type": "markdown",
   "id": "9419d0f4",
   "metadata": {},
   "source": [
    "## 📂 Load and Prepare GSS Cleaned Data"
   ]
  },
  {
   "cell_type": "code",
   "execution_count": null,
   "id": "d7803063",
   "metadata": {},
   "outputs": [],
   "source": [
    "\n",
    "GSS_Cleaned = pd.DataFrame({\n",
    "    'EDUC': np.random.randint(12, 20, 500),\n",
    "    'HAPPY': np.random.choice(['Very Happy', 'Pretty happy', 'Not Too happy'], 500),\n",
    "    'USETECH': np.random.randint(0, 100, 500),\n",
    "    'AGE': np.random.randint(18, 80, 500),\n",
    "    'SEX': np.random.choice(['Male', 'Female'], 500),\n",
    "    'RACE': np.random.choice(['White', 'Black', 'Others'], 500),\n",
    "    'MARITAL': np.random.choice(['Married', 'Widowed', 'Divorced', 'Separated', 'Never married'], 500)\n",
    "})\n",
    "\n",
    "GSS_Cleaned['HAPPY_NUM'] = GSS_Cleaned['HAPPY'].map({'Very Happy': 1, 'Pretty happy': 2, 'Not Too happy': 3})\n",
    "GSS_Cleaned['LifeSat'] = (GSS_Cleaned['HAPPY'] == 'Very Happy').astype(int)\n",
    "GSS_Cleaned['USETECH_group'] = np.where(GSS_Cleaned['USETECH'] >= GSS_Cleaned['USETECH'].median(), 'High', 'Low')\n"
   ]
  },
  {
   "cell_type": "markdown",
   "id": "1282fae7",
   "metadata": {},
   "source": [
    "## 📊 Descriptive Statistics"
   ]
  },
  {
   "cell_type": "code",
   "execution_count": null,
   "id": "42b63837",
   "metadata": {},
   "outputs": [],
   "source": [
    "GSS_Cleaned.describe(include='all')"
   ]
  },
  {
   "cell_type": "markdown",
   "id": "36ff1b64",
   "metadata": {},
   "source": [
    "## 📈 Visualizations"
   ]
  },
  {
   "cell_type": "code",
   "execution_count": null,
   "id": "66628860",
   "metadata": {},
   "outputs": [],
   "source": [
    "\n",
    "sns.countplot(x='EDUC', data=GSS_Cleaned)\n",
    "plt.title('Education Distribution')\n",
    "plt.xticks(rotation=45)\n",
    "plt.show()\n",
    "\n",
    "sns.countplot(x='HAPPY', data=GSS_Cleaned)\n",
    "plt.title('Happiness Distribution')\n",
    "plt.show()\n",
    "\n",
    "sns.scatterplot(x='USETECH', y='EDUC', data=GSS_Cleaned)\n",
    "plt.title('USETECH vs EDUC')\n",
    "plt.show()\n",
    "\n",
    "sns.scatterplot(x='USETECH', y='HAPPY_NUM', data=GSS_Cleaned)\n",
    "plt.title('USETECH vs HAPPY')\n",
    "plt.show()\n",
    "\n",
    "sns.histplot(GSS_Cleaned['AGE'], bins=15, kde=True)\n",
    "plt.title('Age Distribution')\n",
    "plt.show()\n"
   ]
  },
  {
   "cell_type": "markdown",
   "id": "a4ca5047",
   "metadata": {},
   "source": [
    "## 🧪 T-Test & Wilcoxon Tests"
   ]
  },
  {
   "cell_type": "code",
   "execution_count": null,
   "id": "9feaabe4",
   "metadata": {},
   "outputs": [],
   "source": [
    "\n",
    "from scipy.stats import ttest_ind, wilcoxon\n",
    "\n",
    "t_educ = ttest_ind(GSS_Cleaned[GSS_Cleaned['USETECH_group'] == 'High']['EDUC'],\n",
    "                   GSS_Cleaned[GSS_Cleaned['USETECH_group'] == 'Low']['EDUC'])\n",
    "\n",
    "w_happy = wilcoxon(GSS_Cleaned[GSS_Cleaned['USETECH_group'] == 'High']['HAPPY_NUM'],\n",
    "                   GSS_Cleaned[GSS_Cleaned['USETECH_group'] == 'Low']['HAPPY_NUM'])\n",
    "\n",
    "t_educ, w_happy\n"
   ]
  },
  {
   "cell_type": "markdown",
   "id": "36700940",
   "metadata": {},
   "source": [
    "## 📏 Cohen’s d for Effect Size"
   ]
  },
  {
   "cell_type": "code",
   "execution_count": null,
   "id": "62715362",
   "metadata": {},
   "outputs": [],
   "source": [
    "\n",
    "def cohens_d(x, y):\n",
    "    nx = len(x)\n",
    "    ny = len(y)\n",
    "    dof = nx + ny - 2\n",
    "    return (np.mean(x) - np.mean(y)) / np.sqrt(((nx - 1) * np.std(x, ddof=1) ** 2 + (ny - 1) * np.std(y, ddof=1) ** 2) / dof)\n",
    "\n",
    "cohen_d_educ = cohens_d(GSS_Cleaned[GSS_Cleaned['USETECH_group'] == 'High']['EDUC'],\n",
    "                        GSS_Cleaned[GSS_Cleaned['USETECH_group'] == 'Low']['EDUC'])\n",
    "\n",
    "cohen_d_educ\n"
   ]
  },
  {
   "cell_type": "markdown",
   "id": "342967ad",
   "metadata": {},
   "source": [
    "## 📊 ANOVA & Kruskal-Wallis Tests"
   ]
  },
  {
   "cell_type": "code",
   "execution_count": null,
   "id": "6b22f0e4",
   "metadata": {},
   "outputs": [],
   "source": [
    "\n",
    "anova_educ = smf.ols('EDUC ~ C(RACE)', data=GSS_Cleaned).fit()\n",
    "anova_happy = smf.ols('HAPPY_NUM ~ C(MARITAL)', data=GSS_Cleaned).fit()\n",
    "\n",
    "anova_educ_result = sm.stats.anova_lm(anova_educ, typ=2)\n",
    "anova_happy_result = sm.stats.anova_lm(anova_happy, typ=2)\n",
    "\n",
    "kruskal_educ = kruskal(*[group['EDUC'].values for name, group in GSS_Cleaned.groupby('RACE')])\n",
    "kruskal_happy = kruskal(*[group['HAPPY_NUM'].values for name, group in GSS_Cleaned.groupby('MARITAL')])\n",
    "\n",
    "anova_educ_result, anova_happy_result, kruskal_educ, kruskal_happy\n"
   ]
  },
  {
   "cell_type": "markdown",
   "id": "cb7d076e",
   "metadata": {},
   "source": [
    "## 📌 Tukey HSD Post-hoc Test"
   ]
  },
  {
   "cell_type": "code",
   "execution_count": null,
   "id": "7e4913b8",
   "metadata": {},
   "outputs": [],
   "source": [
    "\n",
    "tukey = pairwise_tukeyhsd(endog=GSS_Cleaned['EDUC'], groups=GSS_Cleaned['RACE'], alpha=0.05)\n",
    "print(tukey)\n"
   ]
  },
  {
   "cell_type": "markdown",
   "id": "d301db1f",
   "metadata": {},
   "source": [
    "## 📉 Multiple Linear Regression (Predict HAPPY)"
   ]
  },
  {
   "cell_type": "code",
   "execution_count": null,
   "id": "2523a8a3",
   "metadata": {},
   "outputs": [],
   "source": [
    "\n",
    "model_happy = smf.ols('HAPPY_NUM ~ USETECH + AGE + C(SEX) + C(RACE)', data=GSS_Cleaned).fit()\n",
    "model_happy.summary()\n"
   ]
  },
  {
   "cell_type": "markdown",
   "id": "3d42b001",
   "metadata": {},
   "source": [
    "## 🔍 Binary Logistic Regression (Predict LifeSat)"
   ]
  },
  {
   "cell_type": "code",
   "execution_count": null,
   "id": "93e1e3c3",
   "metadata": {},
   "outputs": [],
   "source": [
    "\n",
    "model_lifesat = smf.logit('LifeSat ~ USETECH + AGE + C(SEX) + C(RACE)', data=GSS_Cleaned).fit()\n",
    "model_lifesat.summary()\n"
   ]
  },
  {
   "cell_type": "markdown",
   "id": "53b60ff6",
   "metadata": {},
   "source": [
    "## ✅ Conclusion"
   ]
  },
  {
   "cell_type": "markdown",
   "id": "ed57ce9f",
   "metadata": {},
   "source": [
    "\n",
    "- Higher USETECH is associated with higher EDUC (p < 0.00001, Cohen’s d ≈ 0.20).\n",
    "- No significant difference in HAPPY across tech usage groups.\n",
    "- Age and race significantly influence LifeSat and HAPPY.\n"
   ]
  }
 ],
 "metadata": {},
 "nbformat": 4,
 "nbformat_minor": 5
}
